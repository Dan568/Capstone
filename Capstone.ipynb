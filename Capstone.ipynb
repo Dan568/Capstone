{
 "cells": [
  {
   "cell_type": "markdown",
   "id": "39decd27-818f-4ead-8dfc-b69ee8be59c4",
   "metadata": {},
   "source": [
    "# Capstone Project for Data Science "
   ]
  },
  {
   "cell_type": "code",
   "execution_count": 2,
   "id": "f816d77e-7735-4821-b6f1-888f2c315e74",
   "metadata": {},
   "outputs": [
    {
     "name": "stdout",
     "output_type": "stream",
     "text": [
      "Hello Capstone Project Course!\n"
     ]
    }
   ],
   "source": [
    "import pandas as pd\n",
    "import numpy  as np\n",
    "\n",
    "print('Hello Capstone Project Course!')"
   ]
  },
  {
   "cell_type": "code",
   "execution_count": null,
   "id": "0afa4605-e193-48b9-8b42-536dfe5e0a01",
   "metadata": {},
   "outputs": [],
   "source": []
  }
 ],
 "metadata": {
  "kernelspec": {
   "display_name": "Python",
   "language": "python",
   "name": "conda-env-python-py"
  },
  "language_info": {
   "codemirror_mode": {
    "name": "ipython",
    "version": 3
   },
   "file_extension": ".py",
   "mimetype": "text/x-python",
   "name": "python",
   "nbconvert_exporter": "python",
   "pygments_lexer": "ipython3",
   "version": "3.6.13"
  }
 },
 "nbformat": 4,
 "nbformat_minor": 5
}
