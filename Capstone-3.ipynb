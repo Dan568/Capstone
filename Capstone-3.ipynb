{
 "cells": [
  {
   "cell_type": "markdown",
   "id": "39decd27-818f-4ead-8dfc-b69ee8be59c4",
   "metadata": {},
   "source": [
    "# Capstone Project for Data Science "
   ]
  },
  {
   "cell_type": "markdown",
   "id": "d0f9e3d0-dfb7-4cfe-8c8b-c06316926ecc",
   "metadata": {},
   "source": [
    "This is the final project for the data science course, where we will be evaulating data from foursquare."
   ]
  },
  {
   "cell_type": "code",
   "execution_count": 1,
   "id": "0afa4605-e193-48b9-8b42-536dfe5e0a01",
   "metadata": {},
   "outputs": [
    {
     "name": "stdout",
     "output_type": "stream",
     "text": [
      "Hello Capstone Project Course!\n"
     ]
    }
   ],
   "source": [
    "import pandas as pd\n",
    "import numpy  as np\n",
    "\n",
    "print('Hello Capstone Project Course!')"
   ]
  },
  {
   "cell_type": "code",
   "execution_count": null,
   "id": "a4a8f77d-69c9-4784-9776-a943776d7290",
   "metadata": {},
   "outputs": [],
   "source": []
  }
 ],
 "metadata": {
  "kernelspec": {
   "display_name": "Python",
   "language": "python",
   "name": "conda-env-python-py"
  },
  "language_info": {
   "codemirror_mode": {
    "name": "ipython",
    "version": 3
   },
   "file_extension": ".py",
   "mimetype": "text/x-python",
   "name": "python",
   "nbconvert_exporter": "python",
   "pygments_lexer": "ipython3",
   "version": "3.6.13"
  }
 },
 "nbformat": 4,
 "nbformat_minor": 5
}
